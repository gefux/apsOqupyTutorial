{
 "cells": [
  {
   "cell_type": "code",
   "execution_count": 1,
   "id": "a02f830d-a205-40f6-b076-23a33a08eaff",
   "metadata": {},
   "outputs": [
    {
     "data": {
      "text/plain": [
       "'0.5.0'"
      ]
     },
     "execution_count": 1,
     "metadata": {},
     "output_type": "execute_result"
    }
   ],
   "source": [
    "import oqupy\n",
    "import numpy as np\n",
    "import matplotlib.pyplot as plt\n",
    "oqupy.__version__"
   ]
  },
  {
   "cell_type": "code",
   "execution_count": 2,
   "id": "779f9b33-21f6-499e-a652-b964f9c631c2",
   "metadata": {},
   "outputs": [],
   "source": [
    "sigma_x = oqupy.operators.sigma('x')\n",
    "sigma_y = oqupy.operators.sigma('y')\n",
    "sigma_z = oqupy.operators.sigma('z')"
   ]
  },
  {
   "cell_type": "code",
   "execution_count": 3,
   "id": "4aa37143-d9f0-4069-af2d-ff57700a6d37",
   "metadata": {},
   "outputs": [],
   "source": [
    "correlations = oqupy.PowerLawSD(alpha=0.3,\n",
    "                                zeta=1,\n",
    "                                cutoff=5.0,\n",
    "                                cutoff_type='exponential',\n",
    "                                temperature=0.0)"
   ]
  },
  {
   "cell_type": "code",
   "execution_count": 4,
   "id": "6aff2714-a9d0-4616-b1db-04fdb2fbe8cc",
   "metadata": {},
   "outputs": [],
   "source": [
    "bath = oqupy.Bath(sigma_z/2.0, correlations)"
   ]
  },
  {
   "cell_type": "code",
   "execution_count": 5,
   "id": "397a00ef-af3d-4159-92fa-b074be63167d",
   "metadata": {},
   "outputs": [],
   "source": [
    "tempo_parameters = oqupy.TempoParameters(dt=0.1, tcut=2.0, epsrel=1.0e-4)"
   ]
  },
  {
   "cell_type": "code",
   "execution_count": 6,
   "id": "fc8ffb06-4a20-4be5-abbf-331a9efc59bd",
   "metadata": {},
   "outputs": [
    {
     "name": "stdout",
     "output_type": "stream",
     "text": [
      "--> PT-TEMPO computation:\n",
      "100.0%  160 of  160 [########################################] 00:00:09\n",
      "Elapsed time: 9.8s\n"
     ]
    }
   ],
   "source": [
    "ptMPO = oqupy.pt_tempo_compute(bath=bath,\n",
    "                               start_time=0.0,\n",
    "                               end_time=16.0,\n",
    "                               parameters=tempo_parameters)"
   ]
  },
  {
   "cell_type": "code",
   "execution_count": 7,
   "id": "6a3065ca-8e50-4e32-a64c-3dec4f15e381",
   "metadata": {},
   "outputs": [
    {
     "data": {
      "text/plain": [
       "array([ 1,  4, 11, 12, 15, 17, 17, 19, 22, 23, 22, 24, 25, 26, 28, 29, 30,\n",
       "       31, 33, 33, 33, 33, 33, 33, 33, 33, 33, 33, 33, 33, 33, 33, 33, 33,\n",
       "       33, 33, 33, 33, 33, 33, 33, 33, 33, 33, 33, 33, 33, 33, 33, 33, 33,\n",
       "       33, 33, 33, 33, 33, 33, 33, 33, 33, 33, 33, 33, 33, 33, 33, 33, 33,\n",
       "       33, 33, 33, 33, 33, 33, 33, 33, 33, 33, 33, 33, 33, 33, 33, 33, 33,\n",
       "       33, 33, 33, 33, 33, 33, 33, 33, 33, 33, 33, 33, 33, 33, 33, 33, 33,\n",
       "       33, 33, 33, 33, 33, 33, 33, 33, 33, 33, 33, 33, 33, 33, 33, 33, 33,\n",
       "       33, 33, 33, 33, 33, 33, 33, 33, 33, 33, 33, 33, 33, 33, 33, 33, 33,\n",
       "       33, 33, 33, 33, 33, 32, 30, 29, 28, 27, 25, 24, 22, 21, 19, 18, 17,\n",
       "       15, 14, 12, 10,  9,  7,  3,  1])"
      ]
     },
     "execution_count": 7,
     "metadata": {},
     "output_type": "execute_result"
    }
   ],
   "source": [
    "ptMPO.get_bond_dimensions()"
   ]
  },
  {
   "cell_type": "code",
   "execution_count": 8,
   "id": "a58cd5fc-946a-4081-8f1a-b7a3b73b3b10",
   "metadata": {},
   "outputs": [
    {
     "name": "stdout",
     "output_type": "stream",
     "text": [
      "--> Compute dynamics:\n",
      "100.0%  160 of  160 [########################################] 00:00:02\n",
      "Elapsed time: 2.6s\n"
     ]
    }
   ],
   "source": [
    "dynamics = oqupy.compute_dynamics(process_tensor=ptMPO,\n",
    "                                  system=oqupy.System(sigma_x/2.0),\n",
    "                                  initial_state=oqupy.operators.spin_dm('z+'))"
   ]
  },
  {
   "cell_type": "code",
   "execution_count": 9,
   "id": "a5b1dc1d-ccae-415a-931f-c160a028ea74",
   "metadata": {},
   "outputs": [],
   "source": [
    "t, s_z = dynamics.expectations(sigma_z, real=True)"
   ]
  },
  {
   "cell_type": "code",
   "execution_count": 10,
   "id": "2f8f9841-7211-442f-a901-9f6e28c74009",
   "metadata": {},
   "outputs": [
    {
     "data": {
      "text/plain": [
       "Text(0, 0.5, '$<\\\\sigma_z>$')"
      ]
     },
     "execution_count": 10,
     "metadata": {},
     "output_type": "execute_result"
    },
    {
     "data": {
      "image/png": "[encoded data removed]",
      "text/plain": [
       "<Figure size 640x480 with 1 Axes>"
      ]
     },
     "metadata": {},
     "output_type": "display_data"
    }
   ],
   "source": [
    "plt.plot(t, s_z)\n",
    "plt.xlabel(r'$t$')\n",
    "plt.ylabel(r'$<\\sigma_z>$')"
   ]
  },
  {
   "cell_type": "code",
   "execution_count": null,
   "id": "92802fb4-18fc-4fa7-a6d9-30f8e8a6e113",
   "metadata": {},
   "outputs": [],
   "source": []
  }
 ],
 "metadata": {
  "kernelspec": {
   "display_name": "Python 3 (ipykernel)",
   "language": "python",
   "name": "python3"
  },
  "language_info": {
   "codemirror_mode": {
    "name": "ipython",
    "version": 3
   },
   "file_extension": ".py",
   "mimetype": "text/x-python",
   "name": "python",
   "nbconvert_exporter": "python",
   "pygments_lexer": "ipython3",
   "version": "3.12.3"
  }
 },
 "nbformat": 4,
 "nbformat_minor": 5
}
