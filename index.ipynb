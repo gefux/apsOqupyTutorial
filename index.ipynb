{
 "cells": [
  {
   "cell_type": "markdown",
   "id": "76f71e4e-0fe8-4dda-aa09-5b19f7b11742",
   "metadata": {},
   "source": [
    "# OQuPy Mini Example\n",
    "**APS March Meeting Workshop**: *2025-03-16*\n",
    "\n",
    "- Github page: [https://github.com/tempoCollaboration/OQuPy](https://github.com/tempoCollaboration/OQuPy)\n",
    "- Documentation: [https://oqupy.readthedocs.io/](https://oqupy.readthedocs.io/)\n",
    "- Paper: [J. Chem. Phys. 161, 124108 (2024)](https://doi.org/10.1063/5.0225367) | [arXiv:2406.16650](https://doi.org/10.48550/arXiv.2406.16650)\n"
   ]
  },
  {
   "cell_type": "code",
   "execution_count": null,
   "id": "a02f830d-a205-40f6-b076-23a33a08eaff",
   "metadata": {},
   "outputs": [],
   "source": [
    "import numpy as np\n",
    "import matplotlib.pyplot as plt\n",
    "import oqupy"
   ]
  },
  {
   "cell_type": "code",
   "execution_count": null,
   "id": "779f9b33-21f6-499e-a652-b964f9c631c2",
   "metadata": {},
   "outputs": [],
   "source": [
    "sigma_x = oqupy.operators.sigma('x')\n",
    "sigma_y = oqupy.operators.sigma('y')\n",
    "sigma_z = oqupy.operators.sigma('z')"
   ]
  },
  {
   "cell_type": "markdown",
   "id": "5821e12d-f250-4ad1-a1e1-5b8f27174a12",
   "metadata": {},
   "source": [
    "## Create a PT-MPO using PT-TEMPO"
   ]
  },
  {
   "cell_type": "markdown",
   "id": "12d87d15-78b3-4001-ba1e-afdc158a53f6",
   "metadata": {},
   "source": [
    "**Bath auto-correlation**: from power-law spectral density and temperature. [-> see documentation](https://oqupy.readthedocs.io/en/latest/pages/modules.html#oqupy.bath_correlations.PowerLawSD)."
   ]
  },
  {
   "cell_type": "code",
   "execution_count": null,
   "id": "4aa37143-d9f0-4069-af2d-ff57700a6d37",
   "metadata": {},
   "outputs": [],
   "source": [
    "auto_corr = oqupy.PowerLawSD(alpha=0.3,\n",
    "                             zeta=1,\n",
    "                             cutoff=5.0,\n",
    "                             cutoff_type='exponential',\n",
    "                             temperature=0.0)"
   ]
  },
  {
   "cell_type": "markdown",
   "id": "4357b888-684d-4d6e-9ac8-ced3ff7ca33f",
   "metadata": {},
   "source": [
    "**Bath**: from coupling operator and bath auto-correlation."
   ]
  },
  {
   "cell_type": "code",
   "execution_count": null,
   "id": "6aff2714-a9d0-4616-b1db-04fdb2fbe8cc",
   "metadata": {},
   "outputs": [],
   "source": [
    "bath = oqupy.Bath(sigma_z/2.0, auto_corr)"
   ]
  },
  {
   "cell_type": "markdown",
   "id": "1d01c09e-7461-4a2a-9907-0e968bfe28d3",
   "metadata": {},
   "source": [
    "**TEMPO parameters**: from time step, memory cutoff, and SVD truncation threshold. [-> see tutorial on choosing parameters](https://oqupy.readthedocs.io/en/latest/pages/tutorials/parameters.html)."
   ]
  },
  {
   "cell_type": "code",
   "execution_count": null,
   "id": "397a00ef-af3d-4159-92fa-b074be63167d",
   "metadata": {},
   "outputs": [],
   "source": [
    "params = oqupy.TempoParameters(dt=0.2, tcut=2.0, epsrel=1.0e-3)"
   ]
  },
  {
   "cell_type": "markdown",
   "id": "09328897-1f1b-44f6-bb34-ac88fc5db055",
   "metadata": {},
   "source": [
    "**Compute PT-MPO**: using PT-TEMPO. [-> see documentation](https://oqupy.readthedocs.io/en/latest/pages/modules.html#oqupy.pt_tempo.pt_tempo_compute)."
   ]
  },
  {
   "cell_type": "code",
   "execution_count": null,
   "id": "fc8ffb06-4a20-4be5-abbf-331a9efc59bd",
   "metadata": {},
   "outputs": [],
   "source": [
    "ptMPO = oqupy.pt_tempo_compute(bath=bath,\n",
    "                               start_time=0.0,\n",
    "                               end_time=16.0,\n",
    "                               parameters=params)"
   ]
  },
  {
   "cell_type": "markdown",
   "id": "4feba3f3-2c5c-4131-af18-bf3a63aa5e06",
   "metadata": {},
   "source": [
    "**Inspect the PT-MPO**: show the bond dimensions."
   ]
  },
  {
   "cell_type": "code",
   "execution_count": null,
   "id": "6a3065ca-8e50-4e32-a64c-3dec4f15e381",
   "metadata": {},
   "outputs": [],
   "source": [
    "ptMPO.get_bond_dimensions()"
   ]
  },
  {
   "cell_type": "markdown",
   "id": "79928761-ff49-4d10-99a2-a4db9dd46555",
   "metadata": {},
   "source": [
    "## Compute dynamics from a PT-MPO"
   ]
  },
  {
   "cell_type": "markdown",
   "id": "96c22396-6bb6-460b-b16c-35e48e2572ff",
   "metadata": {},
   "source": [
    "**Compute dynamics object**: from a PT-MPO, a system Hamiltonian, and initial system state. [-> see documentation](https://oqupy.readthedocs.io/en/latest/pages/modules.html#oqupy.system_dynamics.compute_dynamics)."
   ]
  },
  {
   "cell_type": "code",
   "execution_count": null,
   "id": "a58cd5fc-946a-4081-8f1a-b7a3b73b3b10",
   "metadata": {},
   "outputs": [],
   "source": [
    "dynamics = oqupy.compute_dynamics(process_tensor=ptMPO,\n",
    "                                  system=oqupy.System(sigma_x/2.0),\n",
    "                                  initial_state=oqupy.operators.spin_dm('z+'))"
   ]
  },
  {
   "cell_type": "markdown",
   "id": "ad3123f0-81d5-4be1-a25e-867ac1b931b5",
   "metadata": {},
   "source": [
    "**Compute expectation values from dynamics object**. [-> see documentation](https://oqupy.readthedocs.io/en/latest/pages/modules.html#module-oqupy.dynamics)."
   ]
  },
  {
   "cell_type": "code",
   "execution_count": null,
   "id": "a5b1dc1d-ccae-415a-931f-c160a028ea74",
   "metadata": {},
   "outputs": [],
   "source": [
    "t, s_z = dynamics.expectations(sigma_z, real=True)"
   ]
  },
  {
   "cell_type": "markdown",
   "id": "80175def-f9ab-4674-b1a2-3cbeb813ff49",
   "metadata": {},
   "source": [
    "**Plot the result**."
   ]
  },
  {
   "cell_type": "code",
   "execution_count": null,
   "id": "2f8f9841-7211-442f-a901-9f6e28c74009",
   "metadata": {},
   "outputs": [],
   "source": [
    "plt.plot(t, s_z)\n",
    "plt.xlabel(r'$t$')\n",
    "plt.ylabel(r'$<\\sigma_z>$')"
   ]
  },
  {
   "cell_type": "code",
   "execution_count": null,
   "id": "92802fb4-18fc-4fa7-a6d9-30f8e8a6e113",
   "metadata": {},
   "outputs": [],
   "source": []
  }
 ],
 "metadata": {
  "kernelspec": {
   "display_name": "Python 3 (ipykernel)",
   "language": "python",
   "name": "python3"
  },
  "language_info": {
   "codemirror_mode": {
    "name": "ipython",
    "version": 3
   },
   "file_extension": ".py",
   "mimetype": "text/x-python",
   "name": "python",
   "nbconvert_exporter": "python",
   "pygments_lexer": "ipython3",
   "version": "3.12.3"
  }
 },
 "nbformat": 4,
 "nbformat_minor": 5
}
